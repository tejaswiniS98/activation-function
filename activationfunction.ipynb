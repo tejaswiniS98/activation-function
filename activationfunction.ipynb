{
  "nbformat": 4,
  "nbformat_minor": 0,
  "metadata": {
    "colab": {
      "name": "activationfunction.ipynb",
      "provenance": [],
      "collapsed_sections": []
    },
    "kernelspec": {
      "name": "python3",
      "display_name": "Python 3"
    }
  },
  "cells": [
    {
      "cell_type": "code",
      "metadata": {
        "id": "1jYlSXB_67V9"
      },
      "source": [
        "import numpy as np\r\n",
        "import matplotlib.pyplot as plt\r\n",
        "x = np.arange(-2, 2, 0.1)"
      ],
      "execution_count": 8,
      "outputs": []
    },
    {
      "cell_type": "code",
      "metadata": {
        "colab": {
          "base_uri": "https://localhost:8080/"
        },
        "id": "R-kNbiz17Ybf",
        "outputId": "5f21a8c9-a99b-4d2a-bdea-133d6c828340"
      },
      "source": [
        "x"
      ],
      "execution_count": 9,
      "outputs": [
        {
          "output_type": "execute_result",
          "data": {
            "text/plain": [
              "array([-2.00000000e+00, -1.90000000e+00, -1.80000000e+00, -1.70000000e+00,\n",
              "       -1.60000000e+00, -1.50000000e+00, -1.40000000e+00, -1.30000000e+00,\n",
              "       -1.20000000e+00, -1.10000000e+00, -1.00000000e+00, -9.00000000e-01,\n",
              "       -8.00000000e-01, -7.00000000e-01, -6.00000000e-01, -5.00000000e-01,\n",
              "       -4.00000000e-01, -3.00000000e-01, -2.00000000e-01, -1.00000000e-01,\n",
              "        1.77635684e-15,  1.00000000e-01,  2.00000000e-01,  3.00000000e-01,\n",
              "        4.00000000e-01,  5.00000000e-01,  6.00000000e-01,  7.00000000e-01,\n",
              "        8.00000000e-01,  9.00000000e-01,  1.00000000e+00,  1.10000000e+00,\n",
              "        1.20000000e+00,  1.30000000e+00,  1.40000000e+00,  1.50000000e+00,\n",
              "        1.60000000e+00,  1.70000000e+00,  1.80000000e+00,  1.90000000e+00])"
            ]
          },
          "metadata": {
            "tags": []
          },
          "execution_count": 9
        }
      ]
    },
    {
      "cell_type": "code",
      "metadata": {
        "id": "qnCJ-DYS7ZTT"
      },
      "source": [
        "import numpy as np"
      ],
      "execution_count": 10,
      "outputs": []
    },
    {
      "cell_type": "code",
      "metadata": {
        "id": "QXhp8ekC7jBr"
      },
      "source": [
        "import matplotlib.pyplot as plt "
      ],
      "execution_count": 11,
      "outputs": []
    },
    {
      "cell_type": "code",
      "metadata": {
        "colab": {
          "base_uri": "https://localhost:8080/"
        },
        "id": "VLoerRUU7pKa",
        "outputId": "0c4c69cf-486f-4d1a-d76f-872572dec561"
      },
      "source": [
        "x = np.arange(-2 , 2, 0.1)\r\n",
        "def linear(x):\r\n",
        "  a=[]\r\n",
        "  for item in x:\r\n",
        "    a.append(item)\r\n",
        "  return a \r\n",
        "y = linear(x)\r\n",
        "print(y)   "
      ],
      "execution_count": 12,
      "outputs": [
        {
          "output_type": "stream",
          "text": [
            "[-2.0, -1.9, -1.7999999999999998, -1.6999999999999997, -1.5999999999999996, -1.4999999999999996, -1.3999999999999995, -1.2999999999999994, -1.1999999999999993, -1.0999999999999992, -0.9999999999999991, -0.899999999999999, -0.7999999999999989, -0.6999999999999988, -0.5999999999999988, -0.49999999999999867, -0.3999999999999986, -0.2999999999999985, -0.1999999999999984, -0.09999999999999831, 1.7763568394002505e-15, 0.10000000000000187, 0.20000000000000195, 0.30000000000000204, 0.40000000000000213, 0.5000000000000022, 0.6000000000000023, 0.7000000000000024, 0.8000000000000025, 0.9000000000000026, 1.0000000000000027, 1.1000000000000028, 1.2000000000000028, 1.300000000000003, 1.400000000000003, 1.500000000000003, 1.6000000000000032, 1.7000000000000033, 1.8000000000000034, 1.9000000000000035]\n"
          ],
          "name": "stdout"
        }
      ]
    },
    {
      "cell_type": "code",
      "metadata": {
        "colab": {
          "base_uri": "https://localhost:8080/",
          "height": 282
        },
        "id": "NTxZZSi38ZOI",
        "outputId": "a0fca3fb-b270-4661-9c8f-204830762de3"
      },
      "source": [
        "plt.plot(x,y,'r')\r\n",
        "plt.show"
      ],
      "execution_count": 13,
      "outputs": [
        {
          "output_type": "execute_result",
          "data": {
            "text/plain": [
              "<function matplotlib.pyplot.show>"
            ]
          },
          "metadata": {
            "tags": []
          },
          "execution_count": 13
        },
        {
          "output_type": "display_data",
          "data": {
            "image/png": "[encoded data removed]",
            "text/plain": [
              "<Figure size 432x288 with 1 Axes>"
            ]
          },
          "metadata": {
            "tags": [],
            "needs_background": "light"
          }
        }
      ]
    },
    {
      "cell_type": "code",
      "metadata": {
        "colab": {
          "base_uri": "https://localhost:8080/",
          "height": 299
        },
        "id": "du-tZjDU8mfE",
        "outputId": "b7a3025d-c4b0-4118-ed01-04f2b9c8eb0b"
      },
      "source": [
        "plt.plot(x , y,'--','b')"
      ],
      "execution_count": 14,
      "outputs": [
        {
          "output_type": "execute_result",
          "data": {
            "text/plain": [
              "[<matplotlib.lines.Line2D at 0x7f4b904c3940>,\n",
              " <matplotlib.lines.Line2D at 0x7f4b904c3c18>]"
            ]
          },
          "metadata": {
            "tags": []
          },
          "execution_count": 14
        },
        {
          "output_type": "display_data",
          "data": {
            "image/png": "[encoded data removed]",
            "text/plain": [
              "<Figure size 432x288 with 1 Axes>"
            ]
          },
          "metadata": {
            "tags": [],
            "needs_background": "light"
          }
        }
      ]
    },
    {
      "cell_type": "code",
      "metadata": {
        "id": "ildvxkQV8xVE"
      },
      "source": [
        "def relu(x):\r\n",
        "  a = []\r\n",
        "  for item in x:\r\n",
        "    if item > 0:\r\n",
        "      a.append(item)\r\n",
        "    else:\r\n",
        "      a.append(0)\r\n",
        "  return a      "
      ],
      "execution_count": 16,
      "outputs": []
    },
    {
      "cell_type": "code",
      "metadata": {
        "colab": {
          "base_uri": "https://localhost:8080/"
        },
        "id": "1qik0JYe9Xc3",
        "outputId": "409045f4-cc0e-4fe7-e16b-d662c7c8f30a"
      },
      "source": [
        "y = relu(x)\r\n",
        "print(y)"
      ],
      "execution_count": 18,
      "outputs": [
        {
          "output_type": "stream",
          "text": [
            "[0, 0, 0, 0, 0, 0, 0, 0, 0, 0, 0, 0, 0, 0, 0, 0, 0, 0, 0, 0, 1.7763568394002505e-15, 0.10000000000000187, 0.20000000000000195, 0.30000000000000204, 0.40000000000000213, 0.5000000000000022, 0.6000000000000023, 0.7000000000000024, 0.8000000000000025, 0.9000000000000026, 1.0000000000000027, 1.1000000000000028, 1.2000000000000028, 1.300000000000003, 1.400000000000003, 1.500000000000003, 1.6000000000000032, 1.7000000000000033, 1.8000000000000034, 1.9000000000000035]\n"
          ],
          "name": "stdout"
        }
      ]
    },
    {
      "cell_type": "code",
      "metadata": {
        "colab": {
          "base_uri": "https://localhost:8080/",
          "height": 265
        },
        "id": "EBlrKhPe9gaz",
        "outputId": "a3c68fb3-4d27-41d7-f0b6-12a5e3b85285"
      },
      "source": [
        "plt.plot(x,y)\r\n",
        "plt.show()"
      ],
      "execution_count": 19,
      "outputs": [
        {
          "output_type": "display_data",
          "data": {
            "image/png": "[encoded data removed]",
            "text/plain": [
              "<Figure size 432x288 with 1 Axes>"
            ]
          },
          "metadata": {
            "tags": [],
            "needs_background": "light"
          }
        }
      ]
    },
    {
      "cell_type": "code",
      "metadata": {
        "colab": {
          "base_uri": "https://localhost:8080/",
          "height": 265
        },
        "id": "QkBtbBXQ9oR0",
        "outputId": "7f3afdaf-696e-42ae-db53-6e12fdaa01b3"
      },
      "source": [
        "plt.plot(x,y,'--','r')\r\n",
        "plt.grid()\r\n",
        "plt.show()"
      ],
      "execution_count": 23,
      "outputs": [
        {
          "output_type": "display_data",
          "data": {
            "image/png": "[encoded data removed]",
            "text/plain": [
              "<Figure size 432x288 with 1 Axes>"
            ]
          },
          "metadata": {
            "tags": [],
            "needs_background": "light"
          }
        }
      ]
    },
    {
      "cell_type": "code",
      "metadata": {
        "id": "aXR0jCac-E_3"
      },
      "source": [
        "def cubic(x):\r\n",
        "  return x**3 + x**2 - x - 1\r\n",
        "  "
      ],
      "execution_count": 24,
      "outputs": []
    },
    {
      "cell_type": "code",
      "metadata": {
        "id": "fodsepkA__-0"
      },
      "source": [
        "def get_cubic_data(start,end,step_size):\r\n",
        "  X = np.arange(start, end, step_size)\r\n",
        "  X.shape = (len(x),1)\r\n",
        "  y = np.array([cubic(x[i]) for i in range (len(x))])\r\n",
        "  y.shape = (len(y),1)\r\n",
        "  return x,y"
      ],
      "execution_count": 26,
      "outputs": []
    },
    {
      "cell_type": "code",
      "metadata": {
        "id": "RImEshJKA9TV"
      },
      "source": [
        "X,y = get_cubic_data(-2,2,0.1)"
      ],
      "execution_count": 27,
      "outputs": []
    },
    {
      "cell_type": "code",
      "metadata": {
        "id": "cKN1E-jYIzDe"
      },
      "source": [
        ""
      ],
      "execution_count": null,
      "outputs": []
    },
    {
      "cell_type": "code",
      "metadata": {
        "colab": {
          "base_uri": "https://localhost:8080/",
          "height": 268
        },
        "id": "gQUCrG9DBNBD",
        "outputId": "4631828b-d705-4e51-be71-a9487a20f22b"
      },
      "source": [
        "plt.plot(y)\r\n",
        "plt.show()"
      ],
      "execution_count": 28,
      "outputs": [
        {
          "output_type": "display_data",
          "data": {
            "image/png": "[encoded data removed]",
            "text/plain": [
              "<Figure size 432x288 with 1 Axes>"
            ]
          },
          "metadata": {
            "tags": [],
            "needs_background": "light"
          }
        }
      ]
    },
    {
      "cell_type": "code",
      "metadata": {
        "id": "w8BaO0JZBfzc"
      },
      "source": [
        "def get_relu_data(start,end,step_size):\r\n",
        "  X = np.arange(start,end,step_size)\r\n",
        "  X.shape = (len(X),1)\r\n",
        "  y = np.array([(np.multiply(-1.2,X[i])-1.3)for i in range(len(X))])\r\n",
        "  y.shape = (len(y),1)\r\n",
        "  return x,y"
      ],
      "execution_count": 29,
      "outputs": []
    },
    {
      "cell_type": "code",
      "metadata": {
        "id": "jbd9bPheC42O"
      },
      "source": [
        "def get_relu_data2(start,end,step_size):\r\n",
        "  X = np.arange(start,end,step_size)\r\n",
        "  X.shape = (len(X),1)\r\n",
        "  y = np.array([(np.multiply(-5,X[i])-7.7)for i in range(len(X))])\r\n",
        "  y.shape = (len(y),1)\r\n",
        "  return x,y"
      ],
      "execution_count": 31,
      "outputs": []
    },
    {
      "cell_type": "code",
      "metadata": {
        "id": "tgzJ7UmzEvMg"
      },
      "source": [
        "def get_relu_data1(start,end,step_size):\r\n",
        "  X = np.arange(start,end,step_size)\r\n",
        "  X.shape = (len(X),1)\r\n",
        "  y = np.array([(np.multiply(1.2,X[i])+1)for i in range(len(X))])\r\n",
        "  y.shape = (len(y),1)\r\n",
        "  return x,y"
      ],
      "execution_count": 37,
      "outputs": []
    },
    {
      "cell_type": "code",
      "metadata": {
        "id": "I042sIDsD1fR"
      },
      "source": [
        "X,y1 =  get_relu_data(-2,2,-1)"
      ],
      "execution_count": 36,
      "outputs": []
    },
    {
      "cell_type": "code",
      "metadata": {
        "id": "TC1lo2TNEGdx"
      },
      "source": [
        "X,y2 =  get_relu_data1(-2,2,-1)\r\n",
        "X,y3 =  get_relu_data2(-2,2,-1)"
      ],
      "execution_count": 43,
      "outputs": []
    },
    {
      "cell_type": "code",
      "metadata": {
        "id": "X8g0qjPbHZDQ"
      },
      "source": [
        "import matplotlib.pyplot as plt\r\n"
      ],
      "execution_count": 45,
      "outputs": []
    },
    {
      "cell_type": "code",
      "metadata": {
        "colab": {
          "base_uri": "https://localhost:8080/",
          "height": 519
        },
        "id": "XMLBnQgMENZB",
        "outputId": "b2a5b412-e0fe-477f-9388-5cb9c045b455"
      },
      "source": [
        "y1 = relu(y1)\r\n",
        "y2 = relu(y2)\r\n",
        "y3 = relu(y3)\r\n",
        "z = np.array([(-y1[i]-y2[i]-y3[i])for i in range(len(y1))])\r\n",
        "plt.plot(y)\r\n",
        "plt.plot(y1,'o',color='r')\r\n",
        "plt.plot(y1,'--',color='b')\r\n",
        "plt.plot(y1,'+',color='g')\r\n",
        "plt.grid()\r\n",
        "plt.show()\r\n",
        "plt.plot(z)\r\n",
        "plt.plot(y,'o')\r\n",
        "plt.show()"
      ],
      "execution_count": 47,
      "outputs": [
        {
          "output_type": "display_data",
          "data": {
            "image/png": "[encoded data removed]",
            "text/plain": [
              "<Figure size 432x288 with 1 Axes>"
            ]
          },
          "metadata": {
            "tags": [],
            "needs_background": "light"
          }
        },
        {
          "output_type": "display_data",
          "data": {
            "image/png": "[encoded data removed]",
            "text/plain": [
              "<Figure size 432x288 with 1 Axes>"
            ]
          },
          "metadata": {
            "tags": [],
            "needs_background": "light"
          }
        }
      ]
    },
    {
      "cell_type": "code",
      "metadata": {
        "id": "b9zrmhv6I2MO"
      },
      "source": [
        "def sigmoid(x):\r\n",
        "  return(1/1+np.exp(-x))"
      ],
      "execution_count": 50,
      "outputs": []
    },
    {
      "cell_type": "code",
      "metadata": {
        "id": "aIbPryszJ0NX"
      },
      "source": [
        "x = np.arange(-2,2,0.1)\r\n",
        "y = sigmoid(x)"
      ],
      "execution_count": 51,
      "outputs": []
    },
    {
      "cell_type": "code",
      "metadata": {
        "colab": {
          "base_uri": "https://localhost:8080/",
          "height": 265
        },
        "id": "w994rBVtKCOL",
        "outputId": "224df07d-6002-481e-ef04-5a3b9a4b5653"
      },
      "source": [
        "plt.plot(x,y,'o',color='b')\r\n",
        "plt.show()"
      ],
      "execution_count": 52,
      "outputs": [
        {
          "output_type": "display_data",
          "data": {
            "image/png": "[encoded data removed]",
            "text/plain": [
              "<Figure size 432x288 with 1 Axes>"
            ]
          },
          "metadata": {
            "tags": [],
            "needs_background": "light"
          }
        }
      ]
    },
    {
      "cell_type": "code",
      "metadata": {
        "colab": {
          "base_uri": "https://localhost:8080/",
          "height": 265
        },
        "id": "FEGGdAp5KQcq",
        "outputId": "894f2e2a-8035-4cf5-cd5e-f2240a80a716"
      },
      "source": [
        "plt.plot(x,np.tanh(x))\r\n",
        "plt.show()"
      ],
      "execution_count": 54,
      "outputs": [
        {
          "output_type": "display_data",
          "data": {
            "image/png": "[encoded data removed]",
            "text/plain": [
              "<Figure size 432x288 with 1 Axes>"
            ]
          },
          "metadata": {
            "tags": [],
            "needs_background": "light"
          }
        }
      ]
    },
    {
      "cell_type": "code",
      "metadata": {
        "colab": {
          "base_uri": "https://localhost:8080/",
          "height": 265
        },
        "id": "kpxZAGh8Kk-5",
        "outputId": "7af53863-473e-4de0-c2df-97289da675ea"
      },
      "source": [
        "plt.plot(x,np.tanh(x))\r\n",
        "plt.grid()\r\n",
        "plt.show()"
      ],
      "execution_count": 56,
      "outputs": [
        {
          "output_type": "display_data",
          "data": {
            "image/png": "[encoded data removed]",
            "text/plain": [
              "<Figure size 432x288 with 1 Axes>"
            ]
          },
          "metadata": {
            "tags": [],
            "needs_background": "light"
          }
        }
      ]
    },
    {
      "cell_type": "code",
      "metadata": {
        "id": "M6JV9APPK4gc"
      },
      "source": [
        "x = np.arange(-2,2,0.2)"
      ],
      "execution_count": 79,
      "outputs": []
    },
    {
      "cell_type": "code",
      "metadata": {
        "id": "7dQBynEsOzpA"
      },
      "source": [
        "\r\n",
        "def relu(x):\r\n",
        "  a = []\r\n",
        "  for item in x:\r\n",
        "    if item > 0:\r\n",
        "      a.append(item)\r\n",
        "    else:\r\n",
        "      a.append(0)\r\n",
        "  return a     "
      ],
      "execution_count": 77,
      "outputs": []
    },
    {
      "cell_type": "code",
      "metadata": {
        "id": "mecunDrTRD7S"
      },
      "source": [
        "def get_relu_data1(start,end,step_size):\r\n",
        "  X = np.arange(start,end,step_size)\r\n",
        "  X.shape = (len(X),1)\r\n",
        "  y = np.array([(np.multiply(-5,X[i])- 7.7)for i in range(len(X))])\r\n",
        "  y.shape = (len(y),1)\r\n",
        "  return x,y"
      ],
      "execution_count": 82,
      "outputs": []
    },
    {
      "cell_type": "code",
      "metadata": {
        "id": "084lsumIRmQL"
      },
      "source": [
        "def get_relu_data2(start,end,step_size):\r\n",
        "  X = np.arange(start,end,step_size)\r\n",
        "  X.shape = (len(X),1)\r\n",
        "  y = np.array([(np.multiply(-1.2,X[i])-1.3)for i in range(len(X))])\r\n",
        "  y.shape = (len(y),1)\r\n",
        "  return x,y"
      ],
      "execution_count": 83,
      "outputs": []
    },
    {
      "cell_type": "code",
      "metadata": {
        "id": "zRwrJFBxRshx"
      },
      "source": [
        "def get_relu_data(start,end,step_size):\r\n",
        "  X = np.arange(start,end,step_size)\r\n",
        "  X.shape = (len(X),1)\r\n",
        "  y = np.array([(np.multiply(1.2,X[i]) + 1)for i in range(len(X))])\r\n",
        "  y.shape = (len(y),1)\r\n",
        "  return x,y"
      ],
      "execution_count": 84,
      "outputs": []
    },
    {
      "cell_type": "code",
      "metadata": {
        "id": "iqOzonHYRw4O"
      },
      "source": [
        "def get_relu_data(start,end,step_size):\r\n",
        "  X = np.arange(start,end,step_size)\r\n",
        "  X.shape = (len(X),1)\r\n",
        "  y = np.array([(np.multiply(1.2,X[i])-0.2)for i in range(len(X))])\r\n",
        "  y.shape = (len(y),1)\r\n",
        "  return x,y"
      ],
      "execution_count": 85,
      "outputs": []
    },
    {
      "cell_type": "code",
      "metadata": {
        "id": "2VEBADCoR8Gt"
      },
      "source": [
        "def get_relu_data(start,end,step_size):\r\n",
        "  X = np.arange(start,end,step_size)\r\n",
        "  X.shape = (len(X),1)\r\n",
        "  y = np.array([(np.multiply(2,X[i])-1.1)for i in range(len(X))])\r\n",
        "  y.shape = (len(y),1)\r\n",
        "  return x,y"
      ],
      "execution_count": 86,
      "outputs": []
    },
    {
      "cell_type": "code",
      "metadata": {
        "id": "o_h5fXZSSEbR"
      },
      "source": [
        "def get_relu_data(start,end,step_size):\r\n",
        "  X = np.arange(start,end,step_size)\r\n",
        "  X.shape = (len(X),1)\r\n",
        "  y = np.array([(np.multiply(5,X[i])- 5)for i in range(len(X))])\r\n",
        "  y.shape = (len(y),1)\r\n",
        "  return x,y"
      ],
      "execution_count": 87,
      "outputs": []
    },
    {
      "cell_type": "code",
      "metadata": {
        "id": "hg5RZdWYSQZ3"
      },
      "source": [
        ""
      ],
      "execution_count": null,
      "outputs": []
    },
    {
      "cell_type": "code",
      "metadata": {
        "id": "Y9VwQhpJSxdr"
      },
      "source": [
        "X,y1 =  get_relu_data(-2,2,.1)\r\n",
        "X,y2 =  get_relu_data(-2,2,.1)\r\n",
        "X,y3 =  get_relu_data(-2,2,.1)\r\n",
        "X,y4 =  get_relu_data(-2,2,.1)\r\n",
        "X,y5 =  get_relu_data(-2,2,.1)\r\n",
        "X,y6 =  get_relu_data(-2,2,.1)\r\n",
        "\r\n"
      ],
      "execution_count": 88,
      "outputs": []
    },
    {
      "cell_type": "code",
      "metadata": {
        "colab": {
          "base_uri": "https://localhost:8080/",
          "height": 601
        },
        "id": "XWacrG6iTYBV",
        "outputId": "43c62c77-f966-42ac-ad7b-4491d8e735f6"
      },
      "source": [
        "y1 = relu(y1)\r\n",
        "y2 = relu(y2)\r\n",
        "y3 = relu(y3)\r\n",
        "y4 = relu(y4)\r\n",
        "y5 = relu(y5)\r\n",
        "y6 = relu(y6)\r\n",
        "\r\n",
        "z = np.array([(-y1[i]-y2[i]-y3[i]+y4[i]+y5[i]+y6[i]) for i in range(len(y1))])\r\n",
        "plt.plot(y)\r\n",
        "plt.plot(y1,'o',color='r')\r\n",
        "plt.plot(y2,'--',color='b')\r\n",
        "plt.plot(y3,'o',color='g')\r\n",
        "plt.plot(y4,'+',color='y')\r\n",
        "plt.plot(y5,'o',color='r')\r\n",
        "plt.plot(y6,'--',color='g')\r\n",
        "plt.grid()\r\n",
        "plt.show()\r\n",
        "plt.plot(z)\r\n",
        "plt.plot(y,'o')\r\n",
        "plt.show()"
      ],
      "execution_count": 93,
      "outputs": [
        {
          "output_type": "stream",
          "text": [
            "/usr/local/lib/python3.6/dist-packages/ipykernel_launcher.py:8: VisibleDeprecationWarning: Creating an ndarray from ragged nested sequences (which is a list-or-tuple of lists-or-tuples-or ndarrays with different lengths or shapes) is deprecated. If you meant to do this, you must specify 'dtype=object' when creating the ndarray\n",
            "  \n",
            "/usr/local/lib/python3.6/dist-packages/numpy/core/_asarray.py:136: VisibleDeprecationWarning: Creating an ndarray from ragged nested sequences (which is a list-or-tuple of lists-or-tuples-or ndarrays with different lengths or shapes) is deprecated. If you meant to do this, you must specify 'dtype=object' when creating the ndarray\n",
            "  return array(a, dtype, copy=False, order=order, subok=True)\n"
          ],
          "name": "stderr"
        },
        {
          "output_type": "display_data",
          "data": {
            "image/png": "[encoded data removed]",
            "text/plain": [
              "<Figure size 432x288 with 1 Axes>"
            ]
          },
          "metadata": {
            "tags": [],
            "needs_background": "light"
          }
        },
        {
          "output_type": "display_data",
          "data": {
            "image/png": "[encoded data removed]",
            "text/plain": [
              "<Figure size 432x288 with 1 Axes>"
            ]
          },
          "metadata": {
            "tags": [],
            "needs_background": "light"
          }
        }
      ]
    }
  ]
}