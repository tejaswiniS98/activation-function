{
  "nbformat": 4,
  "nbformat_minor": 0,
  "metadata": {
    "colab": {
      "name": "Relu.ipynb",
      "provenance": [],
      "collapsed_sections": []
    },
    "kernelspec": {
      "name": "python3",
      "display_name": "Python 3"
    }
  },
  "cells": [
    {
      "cell_type": "code",
      "metadata": {
        "id": "rDVgviAIeMoR"
      },
      "source": [
        "import numpy as np\r\n",
        "import matplotlib.pyplot as plt"
      ],
      "execution_count": 25,
      "outputs": []
    },
    {
      "cell_type": "code",
      "metadata": {
        "id": "YG5hqLGHeYeL"
      },
      "source": [
        "def relu(x):\r\n",
        "  return( np.maximum(x,0))"
      ],
      "execution_count": 46,
      "outputs": []
    },
    {
      "cell_type": "markdown",
      "metadata": {
        "id": "zQBRQa9HmFE1"
      },
      "source": [
        ""
      ]
    },
    {
      "cell_type": "code",
      "metadata": {
        "id": "mxcvq80lekCx"
      },
      "source": [
        "x = np.arange(-2,2,0.2)"
      ],
      "execution_count": 47,
      "outputs": []
    },
    {
      "cell_type": "code",
      "metadata": {
        "id": "RDaVab24ev9n"
      },
      "source": [
        "n1 = relu(-5*x -7.7)\r\n",
        "n2 = relu(-1.2*x -1.3)\r\n",
        "n3 = relu(1.2*x + 1)\r\n",
        "n4 = relu(1.2*x -.2)\r\n",
        "n5 = relu(2*x -1.1)\r\n",
        "n6 = relu(5*x - 5)\r\n",
        "Z = -n1 -n2 -n3 +n4 +n5 +n6"
      ],
      "execution_count": 50,
      "outputs": []
    },
    {
      "cell_type": "code",
      "metadata": {
        "colab": {
          "base_uri": "https://localhost:8080/",
          "height": 265
        },
        "id": "iTIaeE1Xgxuj",
        "outputId": "e74f063b-f97d-41b5-f2cc-58b146714a54"
      },
      "source": [
        "plt.plot(x ,Z,'o',color ='r')\r\n",
        "plt.plot(x,np.zeros(x.shape), color = 'b')\r\n",
        "plt.plot(np.zeros(x.shape),x, color = 'b')\r\n",
        "plt.show()"
      ],
      "execution_count": 52,
      "outputs": [
        {
          "output_type": "display_data",
          "data": {
            "image/png": "[encoded data removed]",
            "text/plain": [
              "<Figure size 432x288 with 1 Axes>"
            ]
          },
          "metadata": {
            "tags": [],
            "needs_background": "light"
          }
        }
      ]
    },
    {
      "cell_type": "code",
      "metadata": {
        "id": "5AXwdBvloF-J"
      },
      "source": [
        ""
      ],
      "execution_count": null,
      "outputs": []
    }
  ]
}